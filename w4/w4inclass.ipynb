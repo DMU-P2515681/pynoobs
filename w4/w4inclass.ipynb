{
 "cells": [
  {
   "cell_type": "code",
   "execution_count": 2,
   "metadata": {},
   "outputs": [
    {
     "name": "stdout",
     "output_type": "stream",
     "text": [
      "Time remaining: 0 minutes, 5 seconds\n",
      "Time remaining: 0 minutes, 4 seconds\n",
      "Time remaining: 0 minutes, 3 seconds\n",
      "Time remaining: 0 minutes, 2 seconds\n",
      "Time remaining: 0 minutes, 1 seconds\n",
      "Time's upppp!\n"
     ]
    }
   ],
   "source": [
    "import time\n",
    "\n",
    "def countdown_timer(minutes = 1, seconds = 0):\n",
    "    # convert minutes to seconds and add to seconds\n",
    "    seconds += minutes * 60\n",
    "    # loop through the seconds\n",
    "    for i in range(seconds, 0, -1):\n",
    "        # print the time left with x minutes and x seconds\n",
    "        print(f\"Time remaining: {i // 60} minutes, {i % 60} seconds\")\n",
    "        # wait one second\n",
    "        time.sleep(1)\n",
    "        # now that one second has passed, the loop will run again\n",
    "    \n",
    "    # when the loop is done, print \"Time's up!\"\n",
    "    print (\"Time's upppp!\")\n",
    "\n",
    "countdown_timer(0,5)"
   ]
  },
  {
   "cell_type": "code",
   "execution_count": null,
   "metadata": {},
   "outputs": [],
   "source": [
    "# lowercase everything \n",
    "print(hello.lower())\n",
    "\n",
    "# caps lock\n",
    "print(hello.upper())\n",
    "\n",
    "# make it a title (capitolize every word)\n",
    "print(hello.title())"
   ]
  },
  {
   "cell_type": "code",
   "execution_count": null,
   "metadata": {},
   "outputs": [],
   "source": [
    "\n",
    "'''\n",
    "More advanced for-loops:\n",
    "The Joke Generator\n",
    "\n",
    "Create a list of funny jokes and their punchlines. Use a loop to go through the list and print each joke, followed by its punchline.\n",
    "\n",
    "BONUS:\n",
    "- Add a print statement at the beginning saying \"Welcome to the comedy show!\"\n",
    "- Add a print statement at the end saying \"I'm here all week, folks!\"\n",
    "- Add a print statement after each punchline saying \"hahahahaha!\"\n",
    "\n",
    "EXTRA BONUS:\n",
    "- create another list of one liners and ask the user if they want more after your first loop, then print out a random one liner from your list and continue the loop until the user says they don't want any more jokes\n",
    "- then print \"London, you've been fantastic!! Goodnight! *mic drop*\"\n",
    "'''"
   ]
  },
  {
   "cell_type": "code",
   "execution_count": null,
   "metadata": {},
   "outputs": [],
   "source": [
    "\n",
    "'''\n",
    "\n",
    "Parrot Repeater:\n",
    "Let's create a parrot that repeats everything we say! \n",
    "We'll give it a phrase to repeat, and a number of times to repeat it.\n",
    "\n",
    "Ask the user for a phrase, or allow our function to take a phrase as an argument.\n",
    "Ask the user for a number of times to repeat the phrase, or allow our function to take a number as an argument.\n",
    "\n",
    "Use a for loop to repeat the phrase the number of times specified.\n",
    "\n",
    "CLUE:\n",
    "- use the range() function to create a range of numbers to loop through\n",
    "\n",
    "\n",
    "\n",
    "'''"
   ]
  },
  {
   "cell_type": "code",
   "execution_count": null,
   "metadata": {},
   "outputs": [],
   "source": [
    "# for loop with conditions in the brackets, the 3 numbers\n",
    "# in the range function are start, stop, and step\n",
    "for i in range(0, 10, 2):\n",
    "    print(i)\n",
    "\n",
    "'''\n",
    "\n",
    "99 bottles of beer on the wall challenge\n",
    "\n",
    "Create a loop that prints out the lyrics to \"99 Bottles of Beer on the Wall\"\n",
    "'''"
   ]
  },
  {
   "cell_type": "code",
   "execution_count": null,
   "metadata": {},
   "outputs": [],
   "source": [
    "import time\n",
    "\n",
    "def bottles_of_beer(beers = 99):\n",
    "    lyrics = \"\"\n",
    "    \n",
    "    for num in range (beers, 0, -1):\n",
    "        lyrics += f\"{num} bottles of beer on the wall, {num} bottles of beer. Take one down, pass it around, {num - 1} bottles of beer on the wall.\\n\"\n",
    "        time.sleep(1)\n",
    "    \n",
    "    print(lyrics)    \n",
    "    return lyrics\n",
    "\n",
    "bottles_of_beer(5)\n",
    "    "
   ]
  }
 ],
 "metadata": {
  "kernelspec": {
   "display_name": "Python 3",
   "language": "python",
   "name": "python3"
  },
  "language_info": {
   "codemirror_mode": {
    "name": "ipython",
    "version": 3
   },
   "file_extension": ".py",
   "mimetype": "text/x-python",
   "name": "python",
   "nbconvert_exporter": "python",
   "pygments_lexer": "ipython3",
   "version": "3.12.0"
  }
 },
 "nbformat": 4,
 "nbformat_minor": 2
}
