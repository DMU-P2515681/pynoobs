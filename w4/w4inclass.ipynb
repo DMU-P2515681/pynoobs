{
 "cells": [
  {
   "cell_type": "code",
   "execution_count": 6,
   "metadata": {},
   "outputs": [
    {
     "name": "stdout",
     "output_type": "stream",
     "text": [
      "Time remaining: 1 minutes, 10 seconds\n",
      "Time remaining: 1 minutes, 9 seconds\n",
      "Time remaining: 1 minutes, 8 seconds\n",
      "Time remaining: 1 minutes, 7 seconds\n",
      "Time remaining: 1 minutes, 6 seconds\n",
      "Time remaining: 1 minutes, 5 seconds\n",
      "Time remaining: 1 minutes, 4 seconds\n",
      "Time remaining: 1 minutes, 3 seconds\n",
      "Time remaining: 1 minutes, 2 seconds\n",
      "Time remaining: 1 minutes, 1 seconds\n",
      "Time remaining: 1 minutes, 0 seconds\n",
      "Time remaining: 0 minutes, 59 seconds\n",
      "Time remaining: 0 minutes, 58 seconds\n",
      "Time remaining: 0 minutes, 57 seconds\n",
      "Time remaining: 0 minutes, 56 seconds\n"
     ]
    },
    {
     "ename": "KeyboardInterrupt",
     "evalue": "",
     "output_type": "error",
     "traceback": [
      "\u001b[0;31m---------------------------------------------------------------------------\u001b[0m",
      "\u001b[0;31mKeyboardInterrupt\u001b[0m                         Traceback (most recent call last)",
      "\u001b[1;32m/Users/dashabi/Desktop/sesh4/w4/w4inclass.ipynb Cell 1\u001b[0m line \u001b[0;36m1\n\u001b[1;32m     <a href='vscode-notebook-cell:/Users/dashabi/Desktop/sesh4/w4/w4inclass.ipynb#W0sZmlsZQ%3D%3D?line=13'>14</a>\u001b[0m         \u001b[39m# now that one second has passed, the loop will run again\u001b[39;00m\n\u001b[1;32m     <a href='vscode-notebook-cell:/Users/dashabi/Desktop/sesh4/w4/w4inclass.ipynb#W0sZmlsZQ%3D%3D?line=14'>15</a>\u001b[0m     \n\u001b[1;32m     <a href='vscode-notebook-cell:/Users/dashabi/Desktop/sesh4/w4/w4inclass.ipynb#W0sZmlsZQ%3D%3D?line=15'>16</a>\u001b[0m     \u001b[39m# when the loop is done, print \"Time's up!\"\u001b[39;00m\n\u001b[1;32m     <a href='vscode-notebook-cell:/Users/dashabi/Desktop/sesh4/w4/w4inclass.ipynb#W0sZmlsZQ%3D%3D?line=16'>17</a>\u001b[0m     \u001b[39mprint\u001b[39m (\u001b[39m\"\u001b[39m\u001b[39mTime\u001b[39m\u001b[39m'\u001b[39m\u001b[39ms upppp!\u001b[39m\u001b[39m\"\u001b[39m)\n\u001b[0;32m---> <a href='vscode-notebook-cell:/Users/dashabi/Desktop/sesh4/w4/w4inclass.ipynb#W0sZmlsZQ%3D%3D?line=18'>19</a>\u001b[0m countdown_timer()\n",
      "\u001b[1;32m/Users/dashabi/Desktop/sesh4/w4/w4inclass.ipynb Cell 1\u001b[0m line \u001b[0;36m1\n\u001b[1;32m     <a href='vscode-notebook-cell:/Users/dashabi/Desktop/sesh4/w4/w4inclass.ipynb#W0sZmlsZQ%3D%3D?line=9'>10</a>\u001b[0m     \u001b[39mprint\u001b[39m(\u001b[39mf\u001b[39m\u001b[39m\"\u001b[39m\u001b[39mTime remaining: \u001b[39m\u001b[39m{\u001b[39;00mi\u001b[39m \u001b[39m\u001b[39m/\u001b[39m\u001b[39m/\u001b[39m\u001b[39m \u001b[39m\u001b[39m60\u001b[39m\u001b[39m}\u001b[39;00m\u001b[39m minutes, \u001b[39m\u001b[39m{\u001b[39;00mi\u001b[39m \u001b[39m\u001b[39m%\u001b[39m\u001b[39m \u001b[39m\u001b[39m60\u001b[39m\u001b[39m}\u001b[39;00m\u001b[39m seconds\u001b[39m\u001b[39m\"\u001b[39m)\n\u001b[1;32m     <a href='vscode-notebook-cell:/Users/dashabi/Desktop/sesh4/w4/w4inclass.ipynb#W0sZmlsZQ%3D%3D?line=11'>12</a>\u001b[0m     \u001b[39m# wait one second\u001b[39;00m\n\u001b[0;32m---> <a href='vscode-notebook-cell:/Users/dashabi/Desktop/sesh4/w4/w4inclass.ipynb#W0sZmlsZQ%3D%3D?line=12'>13</a>\u001b[0m     time\u001b[39m.\u001b[39;49msleep(\u001b[39m1\u001b[39;49m)\n\u001b[1;32m     <a href='vscode-notebook-cell:/Users/dashabi/Desktop/sesh4/w4/w4inclass.ipynb#W0sZmlsZQ%3D%3D?line=13'>14</a>\u001b[0m     \u001b[39m# now that one second has passed, the loop will run again\u001b[39;00m\n\u001b[1;32m     <a href='vscode-notebook-cell:/Users/dashabi/Desktop/sesh4/w4/w4inclass.ipynb#W0sZmlsZQ%3D%3D?line=14'>15</a>\u001b[0m \n\u001b[1;32m     <a href='vscode-notebook-cell:/Users/dashabi/Desktop/sesh4/w4/w4inclass.ipynb#W0sZmlsZQ%3D%3D?line=15'>16</a>\u001b[0m \u001b[39m# when the loop is done, print \"Time's up!\"\u001b[39;00m\n\u001b[1;32m     <a href='vscode-notebook-cell:/Users/dashabi/Desktop/sesh4/w4/w4inclass.ipynb#W0sZmlsZQ%3D%3D?line=16'>17</a>\u001b[0m \u001b[39mprint\u001b[39m (\u001b[39m\"\u001b[39m\u001b[39mTime\u001b[39m\u001b[39m'\u001b[39m\u001b[39ms upppp!\u001b[39m\u001b[39m\"\u001b[39m)\n",
      "\u001b[0;31mKeyboardInterrupt\u001b[0m: "
     ]
    }
   ],
   "source": [
    "import time\n",
    "\n",
    "\n",
    "def countdown_timer(minutes = 1, seconds = 10):\n",
    "    # convert minutes to seconds and add to seconds\n",
    "    seconds += minutes * 60\n",
    "    # loop through the seconds\n",
    "    for i in range(seconds, 0, -1):\n",
    "        # print the time left with x minutes and x seconds\n",
    "        print(f\"Time remaining: {i // 60} minutes, {i % 60} seconds\")\n",
    "    \n",
    "        # wait one second\n",
    "        time.sleep(1)\n",
    "        # now that one second has passed, the loop will run again\n",
    "    \n",
    "    # when the loop is done, print \"Time's up!\"\n",
    "    print (\"Time's upppp!\")\n",
    "\n",
    "countdown_timer()"
   ]
  },
  {
   "cell_type": "code",
   "execution_count": null,
   "metadata": {},
   "outputs": [],
   "source": [
    "# lowercase everything \n",
    "print(hello.lower())\n",
    "\n",
    "# caps lock\n",
    "print(hello.upper())\n",
    "\n",
    "# make it a title (capitolize every word)\n",
    "print(hello.title())"
   ]
  },
  {
   "cell_type": "code",
   "execution_count": null,
   "metadata": {},
   "outputs": [],
   "source": [
    "\n",
    "'''\n",
    "More advanced for-loops:\n",
    "The Joke Generator\n",
    "\n",
    "Create a list of funny jokes and their punchlines. Use a loop to go through the list and print each joke, followed by its punchline.\n",
    "\n",
    "BONUS:\n",
    "- Add a print statement at the beginning saying \"Welcome to the comedy show!\"\n",
    "- Add a print statement at the end saying \"I'm here all week, folks!\"\n",
    "- Add a print statement after each punchline saying \"hahahahaha!\"\n",
    "\n",
    "EXTRA BONUS:\n",
    "- create another list of one liners and ask the user if they want more after your first loop, then print out a random one liner from your list and continue the loop until the user says they don't want any more jokes\n",
    "- then print \"London, you've been fantastic!! Goodnight! *mic drop*\"\n",
    "'''"
   ]
  },
  {
   "cell_type": "code",
   "execution_count": null,
   "metadata": {},
   "outputs": [],
   "source": [
    "\n",
    "'''\n",
    "\n",
    "Parrot Repeater:\n",
    "Let's create a parrot that repeats everything we say! \n",
    "We'll give it a phrase to repeat, and a number of times to repeat it.\n",
    "\n",
    "Ask the user for a phrase, or allow our function to take a phrase as an argument.\n",
    "Ask the user for a number of times to repeat the phrase, or allow our function to take a number as an argument.\n",
    "\n",
    "Use a for loop to repeat the phrase the number of times specified.\n",
    "\n",
    "CLUE:\n",
    "- use the range() function to create a range of numbers to loop through\n",
    "\n",
    "\n",
    "\n",
    "'''"
   ]
  },
  {
   "cell_type": "code",
   "execution_count": 10,
   "metadata": {},
   "outputs": [
    {
     "name": "stdout",
     "output_type": "stream",
     "text": [
      "15\n",
      "13\n",
      "11\n",
      "9\n",
      "7\n",
      "5\n"
     ]
    },
    {
     "data": {
      "text/plain": [
       "'\\n\\n99 bottles of beer on the wall challenge\\n\\nCreate a loop that prints out the lyrics to \"99 Bottles of Beer on the Wall\"\\n'"
      ]
     },
     "execution_count": 10,
     "metadata": {},
     "output_type": "execute_result"
    }
   ],
   "source": [
    "# for loop with conditions in the brackets, the 3 numbers\n",
    "# in the range function are start, stop, and step\n",
    "\n",
    "for i in range(15,4,-2):\n",
    "    print (i)\n",
    "\n",
    "# for i in range(0, 10, 2):\n",
    "#     print(i)\n",
    "\n",
    "'''\n",
    "\n",
    "99 bottles of beer on the wall challenge\n",
    "\n",
    "Create a loop that prints out the lyrics to \"99 Bottles of Beer on the Wall\"\n",
    "'''"
   ]
  },
  {
   "cell_type": "code",
   "execution_count": 1,
   "metadata": {},
   "outputs": [
    {
     "name": "stdout",
     "output_type": "stream",
     "text": [
      "10 beers on the wall, 10 bottles of beer\n",
      "Take one down, pass it around, 9 bottles of beer on the wall\n",
      "\n",
      "9 beers on the wall, 9 bottles of beer\n",
      "Take one down, pass it around, 8 bottles of beer on the wall\n",
      "\n",
      "8 beers on the wall, 8 bottles of beer\n",
      "Take one down, pass it around, 7 bottles of beer on the wall\n",
      "\n",
      "7 beers on the wall, 7 bottles of beer\n",
      "Take one down, pass it around, 6 bottles of beer on the wall\n",
      "\n",
      "6 beers on the wall, 6 bottles of beer\n",
      "Take one down, pass it around, 5 bottles of beer on the wall\n",
      "\n",
      "5 beers on the wall, 5 bottles of beer\n",
      "Take one down, pass it around, 4 bottles of beer on the wall\n",
      "\n",
      "4 beers on the wall, 4 bottles of beer\n",
      "Take one down, pass it around, 3 bottles of beer on the wall\n",
      "\n",
      "3 beers on the wall, 3 bottles of beer\n",
      "Take one down, pass it around, 2 bottles of beer on the wall\n",
      "\n",
      "2 beers on the wall, 2 bottles of beer\n",
      "Take one down, pass it around, 1 bottles of beer on the wall\n",
      "\n",
      "1 beers on the wall, 1 bottles of beer\n",
      "Take one down, pass it around, 0 bottles of beer on the wall\n",
      "\n",
      "no more bottles of beer. go to the store, buy some more, 99 bottles of beer on the wall\n"
     ]
    }
   ],
   "source": [
    "#  we know we want to be using time so lets import time\n",
    "import time\n",
    "import math\n",
    "import random \n",
    "\n",
    "def beers_on_the_wall(num_of_beers = 99):\n",
    "    lyrics = \"\"\n",
    "    \n",
    "    for ex in range(num_of_beers, 0, -1):\n",
    "        lyrics = f\"{ex} beers on the wall, {ex} bottles of beer\\nTake one down, pass it around, {ex-1} bottles of beer on the wall\\n\"\n",
    "        \n",
    "        print(lyrics)\n",
    "        \n",
    "        time.sleep(2)\n",
    "        \n",
    "    lyrics = \"no more bottles of beer. go to the store, buy some more, 99 bottles of beer on the wall\"\n",
    "    \n",
    "    print(lyrics)\n",
    "    # return lyrics\n",
    "\n",
    "beers_on_the_wall(10)"
   ]
  },
  {
   "cell_type": "code",
   "execution_count": null,
   "metadata": {},
   "outputs": [],
   "source": [
    "import time\n",
    "\n",
    "def bottles_of_beer(beers = 99):\n",
    "    lyrics = \"\"\n",
    "    \n",
    "    for num in range (beers, 0, -1):\n",
    "        lyrics += f\"{num} bottles of beer on the wall, {num} bottles of beer. Take one down, pass it around, {num - 1} bottles of beer on the wall.\\n\"\n",
    "        time.sleep(1)\n",
    "    \n",
    "    print(lyrics)    \n",
    "    return lyrics\n",
    "\n",
    "bottles_of_beer(5)\n",
    "    "
   ]
  }
 ],
 "metadata": {
  "kernelspec": {
   "display_name": "Python 3",
   "language": "python",
   "name": "python3"
  },
  "language_info": {
   "codemirror_mode": {
    "name": "ipython",
    "version": 3
   },
   "file_extension": ".py",
   "mimetype": "text/x-python",
   "name": "python",
   "nbconvert_exporter": "python",
   "pygments_lexer": "ipython3",
   "version": "3.12.0"
  }
 },
 "nbformat": 4,
 "nbformat_minor": 2
}
